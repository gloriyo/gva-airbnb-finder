{
 "cells": [
  {
   "cell_type": "code",
   "execution_count": 57,
   "id": "f823ffd5",
   "metadata": {},
   "outputs": [],
   "source": [
    "##reference:  https://www.youtube.com/watch?v=9biKWoGK3j0\n",
    "import pandas as pd \n",
    "import folium \n",
    "from folium.plugins import MarkerCluster"
   ]
  },
  {
   "cell_type": "code",
   "execution_count": 58,
   "id": "4594a3f9",
   "metadata": {},
   "outputs": [],
   "source": [
    "# create basemap (Vancouver downtown)\n",
    "m = folium.Map(location=[49.28084926028885, -123.11593058846286], titles = 'OpenStreetMap',zoom_start=13)"
   ]
  },
  {
   "cell_type": "code",
   "execution_count": 59,
   "id": "09a5160c",
   "metadata": {},
   "outputs": [
    {
     "data": {
      "text/plain": [
       "<folium.map.Marker at 0x7f81d83aafd0>"
      ]
     },
     "execution_count": 59,
     "metadata": {},
     "output_type": "execute_result"
    }
   ],
   "source": [
    "# create marker\n",
    "folium.Marker(location=[49.260812,-123.125736],popup='starbucks', icon=folium.Icon(color='blue')).add_to(m)"
   ]
  },
  {
   "cell_type": "code",
   "execution_count": 60,
   "id": "b7a7abec",
   "metadata": {},
   "outputs": [],
   "source": [
    "# #work with pandas dataframe \n",
    "\n",
    "# makerCluster = MarkerCluster.add_to(m)\n",
    "\n",
    "# for i, row in df.iterrows():\n",
    "#     lat = df.at[i,'lat']\n",
    "#     lng = df.at[i, 'lng']\n",
    "#     rest = df.at[i, 'restaurant']\n",
    "    \n",
    "#     popup='revise popup text later '\n",
    "    \n",
    "#     if rest =='Mcdonals':\n",
    "#         color = 'red'\n",
    "#     else:\n",
    "#         color = 'blue'\n",
    "#     folium.Marker(location=[lat,lng],popup=popup, icon=folium.Icon(color=color)).add_to(markerCluster)    "
   ]
  },
  {
   "cell_type": "code",
   "execution_count": 61,
   "id": "ffb45828",
   "metadata": {},
   "outputs": [],
   "source": [
    "m.save('index.html')"
   ]
  },
  {
   "cell_type": "code",
   "execution_count": null,
   "id": "7edd1c5b",
   "metadata": {},
   "outputs": [],
   "source": [
    "# calculate location and distnace\n",
    "# https://www.youtube.com/watch?v=AeYxEDM1o2E"
   ]
  }
 ],
 "metadata": {
  "kernelspec": {
   "display_name": "Python 3",
   "language": "python",
   "name": "python3"
  },
  "language_info": {
   "codemirror_mode": {
    "name": "ipython",
    "version": 3
   },
   "file_extension": ".py",
   "mimetype": "text/x-python",
   "name": "python",
   "nbconvert_exporter": "python",
   "pygments_lexer": "ipython3",
   "version": "3.9.5"
  }
 },
 "nbformat": 4,
 "nbformat_minor": 5
}
